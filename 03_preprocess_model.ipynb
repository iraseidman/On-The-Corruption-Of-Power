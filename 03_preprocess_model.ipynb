{
 "cells": [
  {
   "cell_type": "code",
   "execution_count": 1,
   "metadata": {},
   "outputs": [],
   "source": [
    "# Data manipulation imports\n",
    "import pandas as pd\n",
    "import numpy as np\n",
    "import matplotlib.pyplot as plt\n",
    "import seaborn as sns\n",
    "\n",
    "# SciKit Learn Processing/ Modeling Imports\n",
    "from sklearn.model_selection import train_test_split, GridSearchCV\n",
    "from sklearn import metrics\n",
    "\n",
    "from sklearn.preprocessing import StandardScaler\n",
    "from sklearn.linear_model import LinearRegression, Lasso, Ridge\n",
    "from sklearn.neighbors import KNeighborsRegressor\n",
    "from sklearn.ensemble import BaggingRegressor, RandomForestRegressor\n",
    "from sklearn.svm import SVR\n",
    "from sklearn.decomposition import PCA"
   ]
  },
  {
   "cell_type": "markdown",
   "metadata": {},
   "source": [
    "## Import Data\n",
    "Import data, train-test split, and begin modeling"
   ]
  },
  {
   "cell_type": "code",
   "execution_count": 2,
   "metadata": {},
   "outputs": [
    {
     "data": {
      "text/html": [
       "<div>\n",
       "<style scoped>\n",
       "    .dataframe tbody tr th:only-of-type {\n",
       "        vertical-align: middle;\n",
       "    }\n",
       "\n",
       "    .dataframe tbody tr th {\n",
       "        vertical-align: top;\n",
       "    }\n",
       "\n",
       "    .dataframe thead th {\n",
       "        text-align: right;\n",
       "    }\n",
       "</style>\n",
       "<table border=\"1\" class=\"dataframe\">\n",
       "  <thead>\n",
       "    <tr style=\"text-align: right;\">\n",
       "      <th></th>\n",
       "      <th>country</th>\n",
       "      <th>population</th>\n",
       "      <th>area_square_km</th>\n",
       "      <th>density_square_km</th>\n",
       "      <th>average_years_of_school</th>\n",
       "      <th>auto_demo_polity</th>\n",
       "      <th>gdp_per_capita</th>\n",
       "      <th>happiness_index</th>\n",
       "      <th>freedom_index</th>\n",
       "      <th>less_corruption_index</th>\n",
       "      <th>life_expectancy_years</th>\n",
       "      <th>inequality_gini</th>\n",
       "      <th>median_household_income_dollars</th>\n",
       "      <th>median_per_capita_income_dollars</th>\n",
       "      <th>median_individual_income_dollars</th>\n",
       "    </tr>\n",
       "  </thead>\n",
       "  <tbody>\n",
       "    <tr>\n",
       "      <th>0</th>\n",
       "      <td>China</td>\n",
       "      <td>1444216.107</td>\n",
       "      <td>9706961</td>\n",
       "      <td>148.7815</td>\n",
       "      <td>2.77</td>\n",
       "      <td>-7.0</td>\n",
       "      <td>12009.4430</td>\n",
       "      <td>5.140</td>\n",
       "      <td>0.51697</td>\n",
       "      <td>0.02781</td>\n",
       "      <td>75.928</td>\n",
       "      <td>38.5</td>\n",
       "      <td>6180.0</td>\n",
       "      <td>1786.0</td>\n",
       "      <td>10410.0</td>\n",
       "    </tr>\n",
       "    <tr>\n",
       "      <th>1</th>\n",
       "      <td>India</td>\n",
       "      <td>1393409.038</td>\n",
       "      <td>3287590</td>\n",
       "      <td>423.8391</td>\n",
       "      <td>1.24</td>\n",
       "      <td>9.0</td>\n",
       "      <td>5722.5186</td>\n",
       "      <td>4.565</td>\n",
       "      <td>0.39786</td>\n",
       "      <td>0.08492</td>\n",
       "      <td>68.607</td>\n",
       "      <td>35.7</td>\n",
       "      <td>3168.0</td>\n",
       "      <td>616.0</td>\n",
       "      <td>2130.0</td>\n",
       "    </tr>\n",
       "    <tr>\n",
       "      <th>2</th>\n",
       "      <td>United States</td>\n",
       "      <td>332915.073</td>\n",
       "      <td>9372610</td>\n",
       "      <td>35.5200</td>\n",
       "      <td>10.61</td>\n",
       "      <td>10.0</td>\n",
       "      <td>53533.2810</td>\n",
       "      <td>7.119</td>\n",
       "      <td>0.54604</td>\n",
       "      <td>0.15890</td>\n",
       "      <td>78.910</td>\n",
       "      <td>41.1</td>\n",
       "      <td>43585.0</td>\n",
       "      <td>15480.0</td>\n",
       "      <td>65760.0</td>\n",
       "    </tr>\n",
       "    <tr>\n",
       "      <th>3</th>\n",
       "      <td>Indonesia</td>\n",
       "      <td>276361.783</td>\n",
       "      <td>1904569</td>\n",
       "      <td>145.1046</td>\n",
       "      <td>2.26</td>\n",
       "      <td>9.0</td>\n",
       "      <td>9781.2070</td>\n",
       "      <td>5.399</td>\n",
       "      <td>0.46611</td>\n",
       "      <td>0.00000</td>\n",
       "      <td>70.768</td>\n",
       "      <td>37.8</td>\n",
       "      <td>2199.0</td>\n",
       "      <td>541.0</td>\n",
       "      <td>4050.0</td>\n",
       "    </tr>\n",
       "    <tr>\n",
       "      <th>4</th>\n",
       "      <td>Pakistan</td>\n",
       "      <td>225199.937</td>\n",
       "      <td>881912</td>\n",
       "      <td>255.3542</td>\n",
       "      <td>1.31</td>\n",
       "      <td>7.0</td>\n",
       "      <td>4815.9243</td>\n",
       "      <td>5.194</td>\n",
       "      <td>0.12102</td>\n",
       "      <td>0.10464</td>\n",
       "      <td>66.577</td>\n",
       "      <td>33.5</td>\n",
       "      <td>4060.0</td>\n",
       "      <td>480.0</td>\n",
       "      <td>1530.0</td>\n",
       "    </tr>\n",
       "  </tbody>\n",
       "</table>\n",
       "</div>"
      ],
      "text/plain": [
       "         country   population  area_square_km  density_square_km  \\\n",
       "0          China  1444216.107         9706961           148.7815   \n",
       "1          India  1393409.038         3287590           423.8391   \n",
       "2  United States   332915.073         9372610            35.5200   \n",
       "3      Indonesia   276361.783         1904569           145.1046   \n",
       "4       Pakistan   225199.937          881912           255.3542   \n",
       "\n",
       "   average_years_of_school  auto_demo_polity  gdp_per_capita  happiness_index  \\\n",
       "0                     2.77              -7.0      12009.4430            5.140   \n",
       "1                     1.24               9.0       5722.5186            4.565   \n",
       "2                    10.61              10.0      53533.2810            7.119   \n",
       "3                     2.26               9.0       9781.2070            5.399   \n",
       "4                     1.31               7.0       4815.9243            5.194   \n",
       "\n",
       "   freedom_index  less_corruption_index  life_expectancy_years  \\\n",
       "0        0.51697                0.02781                 75.928   \n",
       "1        0.39786                0.08492                 68.607   \n",
       "2        0.54604                0.15890                 78.910   \n",
       "3        0.46611                0.00000                 70.768   \n",
       "4        0.12102                0.10464                 66.577   \n",
       "\n",
       "   inequality_gini  median_household_income_dollars  \\\n",
       "0             38.5                           6180.0   \n",
       "1             35.7                           3168.0   \n",
       "2             41.1                          43585.0   \n",
       "3             37.8                           2199.0   \n",
       "4             33.5                           4060.0   \n",
       "\n",
       "   median_per_capita_income_dollars  median_individual_income_dollars  \n",
       "0                            1786.0                           10410.0  \n",
       "1                             616.0                            2130.0  \n",
       "2                           15480.0                           65760.0  \n",
       "3                             541.0                            4050.0  \n",
       "4                             480.0                            1530.0  "
      ]
     },
     "execution_count": 2,
     "metadata": {},
     "output_type": "execute_result"
    }
   ],
   "source": [
    "gov = pd.read_csv('gov.csv')\n",
    "gov.head()"
   ]
  },
  {
   "cell_type": "code",
   "execution_count": 3,
   "metadata": {},
   "outputs": [],
   "source": [
    "# Set X and y\n",
    "X = gov.drop(columns = ['country', 'less_corruption_index'], axis = 1) #drop identifier and target\n",
    "y = gov['less_corruption_index']\n",
    "\n",
    "# Train-test split\n",
    "X_train, X_test, y_train, y_test = train_test_split(X, y, random_state = 1)"
   ]
  },
  {
   "cell_type": "code",
   "execution_count": 4,
   "metadata": {},
   "outputs": [],
   "source": [
    "# Scale data for modeling\n",
    "ss = StandardScaler()\n",
    "\n",
    "Z_train = ss.fit_transform(X_train)\n",
    "Z_test = ss.transform(X_test)"
   ]
  },
  {
   "cell_type": "markdown",
   "metadata": {},
   "source": [
    "## Modeling\n",
    "Fit 8 different models with default parameters and then tune the models with the best performing testing scores"
   ]
  },
  {
   "cell_type": "code",
   "execution_count": 5,
   "metadata": {},
   "outputs": [],
   "source": [
    "np.random.seed(1) #set random seed\n",
    "\n",
    "# Linear regression model\n",
    "lr = LinearRegression().fit(Z_train, y_train)\n",
    "lr_preds_train, lr_preds_test = lr.predict(Z_train), lr.predict(Z_test)\n",
    "\n",
    "# Ridge model\n",
    "ridge = Ridge().fit(Z_train, y_train)\n",
    "ridge_preds_train, ridge_preds_test = ridge.predict(Z_train), ridge.predict(Z_test)\n",
    "\n",
    "# Lasso model\n",
    "lasso = Lasso().fit(Z_train, y_train)\n",
    "lasso_preds_train, lasso_preds_test = lasso.predict(Z_train), lasso.predict(Z_test)\n",
    "\n",
    "# Random Forest model\n",
    "rf = RandomForestRegressor(random_state = 1).fit(Z_train, y_train) #set random_state for reprodcucability\n",
    "rf_preds_train, rf_preds_test = rf.predict(Z_train), rf.predict(X_test)\n",
    "\n",
    "# KNN model\n",
    "knn = KNeighborsRegressor().fit(Z_train, y_train)\n",
    "knn_preds_train, knn_preds_test = knn.predict(Z_train), knn.predict(Z_test)\n",
    "\n",
    "# Bagging model\n",
    "bagging = BaggingRegressor().fit(Z_train, y_train)\n",
    "bagging_preds_train, bagging_preds_test = bagging.predict(Z_train), bagging.predict(Z_test)\n",
    "\n",
    "# SVR model\n",
    "svr = SVR().fit(Z_train, y_train)\n",
    "svr_preds_train, svr_preds_test = svr.predict(Z_train), svr.predict(Z_test)\n",
    "\n",
    "# PCA model\n",
    "pca = PCA(random_state = 1).fit(Z_train, y_train)\n",
    "Z_pca_train, Z_pca_test = pca.transform(Z_train), pca.transform(Z_test)\n",
    "\n",
    "# Fit on Z_train - credit below to PCA lecture\n",
    "lr_pca = LinearRegression().fit(Z_pca_train, y_train)\n",
    "lr_pca_preds_train, lr_pca_Preds_test = lr_pca.predict(Z_train), lr_pca.predict(Z_test)"
   ]
  },
  {
   "cell_type": "markdown",
   "metadata": {},
   "source": [
    "## Score Models\n",
    "Check r squared scores for each of the base models - cross validated scores were very low so not used as I think they are an unfair representation of what is happening"
   ]
  },
  {
   "cell_type": "code",
   "execution_count": 6,
   "metadata": {},
   "outputs": [
    {
     "name": "stdout",
     "output_type": "stream",
     "text": [
      "Lr training score: 0.6263095320540817\n",
      "Lr testing score: 0.42903311503631614 \n",
      "\n",
      "Lasso training score: 0.0\n",
      "Lasso testing score: -0.022450152580491656 \n",
      "\n",
      "Ridge training score: 0.6262304029964222\n",
      "Ridge testing score: 0.42694326454701614 \n",
      "\n",
      "Rf training score: 0.9262014692963894\n",
      "Rf testing score: -2.374368779174898 \n",
      "\n",
      "Knn training score: 0.6328655590543724\n",
      "Knn testing score: 0.14426616982842 \n",
      "\n",
      "Bagging training score: 0.9006657005878178\n",
      "Bagging testing score: 0.4058359959782937 \n",
      "\n",
      "Svr training score: 0.6728948602561878\n",
      "Svr testing score: 0.2994719767663966 \n",
      "\n",
      "Pca training score (lr): 0.6263\n",
      "Pca testing score (lr): 0.429\n"
     ]
    }
   ],
   "source": [
    "# Linear regression scoring\n",
    "lr_training_score = metrics.r2_score(y_train, lr_preds_train)\n",
    "lr_testing_score = metrics.r2_score(y_test, lr_preds_test)\n",
    "print(f'Lr training score: {lr_training_score}')\n",
    "print(f'Lr testing score: {lr_testing_score} \\n')\n",
    "\n",
    "# Lasso scoring\n",
    "lasso_training_score = metrics.r2_score(y_train, lasso_preds_train)\n",
    "lasso_testing_score = metrics.r2_score(y_test, lasso_preds_test)\n",
    "print(f'Lasso training score: {lasso_training_score}')\n",
    "print(f'Lasso testing score: {lasso_testing_score} \\n')\n",
    "\n",
    "# Ridge scoring\n",
    "ridge_training_score = metrics.r2_score(y_train, ridge_preds_train)\n",
    "ridge_testing_score = metrics.r2_score(y_test, ridge_preds_test)\n",
    "print(f'Ridge training score: {ridge_training_score}')\n",
    "print(f'Ridge testing score: {ridge_testing_score} \\n')\n",
    "\n",
    "# Random forest scoring\n",
    "rf_training_score = metrics.r2_score(y_train, rf_preds_train)\n",
    "rf_testing_score = metrics.r2_score(y_test, rf_preds_test)\n",
    "print(f'Rf training score: {rf_training_score}')\n",
    "print(f'Rf testing score: {rf_testing_score} \\n')\n",
    "\n",
    "# Knn scoring\n",
    "knn_training_score = metrics.r2_score(y_train, knn_preds_train)\n",
    "knn_testing_score = metrics.r2_score(y_test, knn_preds_test)\n",
    "print(f'Knn training score: {knn_training_score}')\n",
    "print(f'Knn testing score: {knn_testing_score} \\n')\n",
    "\n",
    "# Bagging scoring\n",
    "bagging_training_score = metrics.r2_score(y_train, bagging_preds_train)\n",
    "bagging_testing_score = metrics.r2_score(y_test, bagging_preds_test)\n",
    "print(f'Bagging training score: {bagging_training_score}')\n",
    "print(f'Bagging testing score: {bagging_testing_score} \\n')\n",
    "\n",
    "# Svr scoring\n",
    "svr_training_score = metrics.r2_score(y_train, svr_preds_train)\n",
    "svr_testing_score = metrics.r2_score(y_test, svr_preds_test)\n",
    "print(f'Svr training score: {svr_training_score}')\n",
    "print(f'Svr testing score: {svr_testing_score} \\n')\n",
    "\n",
    "# Pca scoring\n",
    "print(f'Pca training score (lr): {round(lr_pca.score(Z_pca_train, y_train), 4)}')\n",
    "print(f'Pca testing score (lr): {round(lr_pca.score(Z_pca_test, y_test), 4)}')"
   ]
  },
  {
   "cell_type": "markdown",
   "metadata": {},
   "source": [
    "## Preliminary Model Perfromance\n",
    "The three best testing data models were linear regression (.42903), PCA with linear regression (.429), and Ridge (.426). Below parameters are tuned for optimal performance"
   ]
  },
  {
   "cell_type": "code",
   "execution_count": 7,
   "metadata": {},
   "outputs": [
    {
     "name": "stdout",
     "output_type": "stream",
     "text": [
      "Fitting 5 folds for each of 4 candidates, totalling 20 fits\n"
     ]
    },
    {
     "name": "stderr",
     "output_type": "stream",
     "text": [
      "[Parallel(n_jobs=1)]: Using backend SequentialBackend with 1 concurrent workers.\n",
      "[Parallel(n_jobs=1)]: Done  20 out of  20 | elapsed:    0.0s finished\n"
     ]
    }
   ],
   "source": [
    "# Tuned linear regression model gridsearch\n",
    "lr_params = {\n",
    "    'fit_intercept' : [True, False],\n",
    "    'normalize' : [True, False]\n",
    "}\n",
    "\n",
    "lr_tuned = GridSearchCV(lr,\n",
    "                        lr_params,\n",
    "                        verbose = 1)\n",
    "\n",
    "lr_tuned = lr_tuned.fit(Z_train, y_train)"
   ]
  },
  {
   "cell_type": "code",
   "execution_count": 8,
   "metadata": {},
   "outputs": [
    {
     "name": "stdout",
     "output_type": "stream",
     "text": [
      "Lr training score: 0.6263095320540817\n",
      "Lr testing score: 0.42903311503631614 \n",
      "\n"
     ]
    }
   ],
   "source": [
    "# Score lr_tuned\n",
    "lr_tuned_preds_train, lr_tuned_preds_test = lr_tuned.predict(Z_train), lr_tuned.predict(Z_test)\n",
    "\n",
    "lr_tuned_training_score = metrics.r2_score(y_train, lr_tuned_preds_train)\n",
    "lr_tuned_testing_score = metrics.r2_score(y_test, lr_tuned_preds_test)\n",
    "print(f'Lr training score: {lr_training_score}')\n",
    "print(f'Lr testing score: {lr_testing_score} \\n')"
   ]
  },
  {
   "cell_type": "markdown",
   "metadata": {},
   "source": [
    "No improvement over default parameters"
   ]
  },
  {
   "cell_type": "code",
   "execution_count": 9,
   "metadata": {},
   "outputs": [
    {
     "name": "stdout",
     "output_type": "stream",
     "text": [
      "Fitting 5 folds for each of 18 candidates, totalling 90 fits\n"
     ]
    },
    {
     "name": "stderr",
     "output_type": "stream",
     "text": [
      "[Parallel(n_jobs=1)]: Using backend SequentialBackend with 1 concurrent workers.\n",
      "[Parallel(n_jobs=1)]: Done  90 out of  90 | elapsed:    0.4s finished\n"
     ]
    }
   ],
   "source": [
    "# Tuned PCA model gridsearch\n",
    "pca_params = {\n",
    "    'n_components' : [2, 5, None],\n",
    "    'copy' : [True, False],\n",
    "    'random_state' : [1],\n",
    "    'tol' : [0.0, .1, 1]\n",
    "}\n",
    "\n",
    "pca_tuned = GridSearchCV(pca,\n",
    "                         pca_params,\n",
    "                         cv = 5,\n",
    "                         verbose = 1)\n",
    "\n",
    "pca_tuned = pca_tuned.fit(X_train, y_train)\n",
    "Z_pca_tuned_train = pca_tuned.transform(Z_train)\n",
    "Z_pca_tuned_test = pca_tuned.transform(Z_test)\n",
    "\n",
    "# Fit on Z_train - credit below to PCA lecture\n",
    "lr_pca_tuned = LinearRegression().fit(Z_pca_tuned_train, y_train)\n",
    "lasso_pca_tuned = Lasso().fit(Z_pca_tuned_train, y_train)\n",
    "ridge_pca_tuned = Ridge().fit(Z_pca_tuned_train, y_train)\n",
    "rf_pca_tuned = RandomForestRegressor().fit(Z_pca_tuned_train, y_train)\n",
    "knn_pca_tuned = KNeighborsRegressor().fit(Z_pca_tuned_train, y_train)\n",
    "bagging_pca_tuned = BaggingRegressor().fit(Z_pca_tuned_train, y_train)\n",
    "svr_pca_tuned = SVR().fit(Z_pca_tuned_train, y_train)"
   ]
  },
  {
   "cell_type": "code",
   "execution_count": 10,
   "metadata": {},
   "outputs": [
    {
     "name": "stdout",
     "output_type": "stream",
     "text": [
      "Lr pca tuned training score: 0.6263\n",
      "Lr pca tuned testing score: 0.429 \n",
      "\n",
      "Lasso pca tuned training score: 0.0\n",
      "Lasso pca tuned testing score: -0.0225 \n",
      "\n",
      "Ridge pca tuned training score: 0.6262\n",
      "Ridge pca tuned testing score: 0.4269 \n",
      "\n",
      "Rf pca tuned training score: 0.9249\n",
      "Rf pca tuned testing score: 0.463 \n",
      "\n",
      "Knn pca tuned training score: 0.6329\n",
      "Knn pca tuned testing score: 0.1443 \n",
      "\n",
      "Bagging pca tuned training score: 0.8681\n",
      "Bagging pca tuned testing score: 0.3778 \n",
      "\n",
      "Svr pca tuned training score: -0.001\n",
      "Svr pca tuned testing score: -0.0134\n"
     ]
    }
   ],
   "source": [
    "# Tuned pca scoring - linear regression\n",
    "print(f'Lr pca tuned training score: {round(lr_pca_tuned.score(Z_pca_tuned_train, y_train), 4)}')\n",
    "print(f'Lr pca tuned testing score: {round(lr_pca_tuned.score(Z_pca_tuned_test, y_test), 4)} \\n')\n",
    "\n",
    "# Pca scoring - lasso scoring\n",
    "print(f'Lasso pca tuned training score: {round(lasso_pca_tuned.score(Z_pca_tuned_train, y_train), 4)}')\n",
    "print(f'Lasso pca tuned testing score: {round(lasso_pca_tuned.score(Z_pca_tuned_test, y_test), 4)} \\n')\n",
    "\n",
    "# Pca scoring - ridge scoring\n",
    "print(f'Ridge pca tuned training score: {round(ridge_pca_tuned.score(Z_pca_tuned_train, y_train), 4)}')\n",
    "print(f'Ridge pca tuned testing score: {round(ridge_pca_tuned.score(Z_pca_tuned_test, y_test), 4)} \\n')\n",
    "\n",
    "# Pca scoring - random forest\n",
    "print(f'Rf pca tuned training score: {round(rf_pca_tuned.score(Z_pca_tuned_train, y_train), 4)}')\n",
    "print(f'Rf pca tuned testing score: {round(rf_pca_tuned.score(Z_pca_tuned_test, y_test), 4)} \\n')\n",
    "\n",
    "# Pca scoring - knn\n",
    "print(f'Knn pca tuned training score: {round(knn_pca_tuned.score(Z_pca_tuned_train, y_train), 4)}')\n",
    "print(f'Knn pca tuned testing score: {round(knn_pca_tuned.score(Z_pca_tuned_test, y_test), 4)} \\n')\n",
    "\n",
    "# Pca scoring - bagging\n",
    "print(f'Bagging pca tuned training score: {round(bagging_pca_tuned.score(Z_pca_tuned_train, y_train), 4)}')\n",
    "print(f'Bagging pca tuned testing score: {round(bagging_pca_tuned.score(Z_pca_tuned_test, y_test), 4)} \\n')\n",
    "\n",
    "# Pca scoring - svr\n",
    "print(f'Svr pca tuned training score: {round(svr_pca_tuned.score(Z_pca_tuned_train, y_train), 4)}')\n",
    "print(f'Svr pca tuned testing score: {round(svr_pca_tuned.score(Z_pca_tuned_test, y_test), 4)}')"
   ]
  },
  {
   "cell_type": "markdown",
   "metadata": {},
   "source": [
    "Rnadom forest turns out to be the best base model for pca"
   ]
  },
  {
   "cell_type": "code",
   "execution_count": 11,
   "metadata": {},
   "outputs": [
    {
     "name": "stdout",
     "output_type": "stream",
     "text": [
      "Fitting 5 folds for each of 140 candidates, totalling 700 fits\n"
     ]
    },
    {
     "name": "stderr",
     "output_type": "stream",
     "text": [
      "[Parallel(n_jobs=1)]: Using backend SequentialBackend with 1 concurrent workers.\n"
     ]
    },
    {
     "name": "stdout",
     "output_type": "stream",
     "text": [
      "Ridge training score: 0.6262304029964222\n",
      "Ridge testing score: 0.42694326454701614 \n",
      "\n"
     ]
    },
    {
     "name": "stderr",
     "output_type": "stream",
     "text": [
      "[Parallel(n_jobs=1)]: Done 700 out of 700 | elapsed:    1.3s finished\n"
     ]
    }
   ],
   "source": [
    "# Tuned ridge model gridsearch\n",
    "ridge_params = {\n",
    "    'alpha' : [.01, .1, 1, 10, 100],\n",
    "    'fit_intercept' : [True, False],\n",
    "    'normalize' : [True, False],\n",
    "    'solver' : ['auto', 'svd', 'cholesky', 'lsqr', 'sparse_cg', 'sag', 'saga']\n",
    "}\n",
    "\n",
    "ridge_tuned = GridSearchCV(ridge,\n",
    "                           ridge_params,\n",
    "                           verbose = 1)\n",
    "\n",
    "ridge_tuned = ridge_tuned.fit(Z_train, y_train)\n",
    "\n",
    "# Score ridge_tuned\n",
    "ridge_tuned_preds_train, ridge_tuned_preds_test = ridge_tuned.predict(Z_train), ridge_tuned.predict(Z_test)\n",
    "\n",
    "ridge_tuned_training_score = metrics.r2_score(y_train, ridge_tuned_preds_train)\n",
    "ridge_tuned_testing_score = metrics.r2_score(y_test, ridge_tuned_preds_test)\n",
    "print(f'Ridge training score: {ridge_training_score}')\n",
    "print(f'Ridge testing score: {ridge_testing_score} \\n')"
   ]
  },
  {
   "cell_type": "markdown",
   "metadata": {},
   "source": [
    "No improvement over default parameters"
   ]
  },
  {
   "cell_type": "markdown",
   "metadata": {},
   "source": [
    "## Conclusions\n",
    "There is no improvmenet on the PCA model with linear regression or the gridsearched linear regression and ridge models, but PCA with random forest does perform slightly better with the highest testing score of .463 so this will be the final production model. With more time I would tune a neural networks to try and beat this performance but these results make sense within the context of predicintg for such a dififcult outcome such as corruption. Since principal component analysis does not output meaningful weights for features the best interpretation of results will be correlations from the initial EDA until there is a more involved statistical investigation which is beyond the scope of this study"
   ]
  }
 ],
 "metadata": {
  "kernelspec": {
   "display_name": "Python 3 (ipykernel)",
   "language": "python",
   "name": "python3"
  },
  "language_info": {
   "codemirror_mode": {
    "name": "ipython",
    "version": 3
   },
   "file_extension": ".py",
   "mimetype": "text/x-python",
   "name": "python",
   "nbconvert_exporter": "python",
   "pygments_lexer": "ipython3",
   "version": "3.9.12"
  }
 },
 "nbformat": 4,
 "nbformat_minor": 4
}
