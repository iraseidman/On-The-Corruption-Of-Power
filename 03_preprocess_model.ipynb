{
 "cells": [
  {
   "cell_type": "code",
   "execution_count": 1,
   "metadata": {},
   "outputs": [],
   "source": [
    "# Data manipulation imports\n",
    "import pandas as pd\n",
    "import numpy as np\n",
    "import matplotlib.pyplot as plt\n",
    "import seaborn as sns\n",
    "\n",
    "# SciKit Learn Processing/ Modeling Imports\n",
    "from sklearn.model_selection import train_test_split, GridSearchCV, cross_val_score\n",
    "from sklearn.metrics import r2_score, mean_squared_error\n",
    "from sklearn import metrics\n",
    "\n",
    "from sklearn.preprocessing import StandardScaler\n",
    "from sklearn.linear_model import LinearRegression, Lasso, Ridge\n",
    "from sklearn.neighbors import KNeighborsRegressor\n",
    "from sklearn.ensemble import BaggingRegressor, RandomForestRegressor\n",
    "from sklearn.svm import SVR\n",
    "from sklearn.decomposition import PCA"
   ]
  },
  {
   "cell_type": "markdown",
   "metadata": {},
   "source": [
    "## Import Data\n",
    "Import data, train-test split, and begin modeling"
   ]
  },
  {
   "cell_type": "code",
   "execution_count": 2,
   "metadata": {},
   "outputs": [
    {
     "data": {
      "text/html": [
       "<div>\n",
       "<style scoped>\n",
       "    .dataframe tbody tr th:only-of-type {\n",
       "        vertical-align: middle;\n",
       "    }\n",
       "\n",
       "    .dataframe tbody tr th {\n",
       "        vertical-align: top;\n",
       "    }\n",
       "\n",
       "    .dataframe thead th {\n",
       "        text-align: right;\n",
       "    }\n",
       "</style>\n",
       "<table border=\"1\" class=\"dataframe\">\n",
       "  <thead>\n",
       "    <tr style=\"text-align: right;\">\n",
       "      <th></th>\n",
       "      <th>country</th>\n",
       "      <th>life_expectancy</th>\n",
       "      <th>gdp_per_cap</th>\n",
       "      <th>average_years_of_school</th>\n",
       "      <th>total_population</th>\n",
       "      <th>auto_demo</th>\n",
       "      <th>happiness</th>\n",
       "      <th>freedom</th>\n",
       "      <th>less_corruption</th>\n",
       "    </tr>\n",
       "  </thead>\n",
       "  <tbody>\n",
       "    <tr>\n",
       "      <th>0</th>\n",
       "      <td>Afghanistan</td>\n",
       "      <td>63.377</td>\n",
       "      <td>12381.3665</td>\n",
       "      <td>0.35</td>\n",
       "      <td>34414000.0</td>\n",
       "      <td>-1.0</td>\n",
       "      <td>3.575</td>\n",
       "      <td>0.23414</td>\n",
       "      <td>0.09719</td>\n",
       "    </tr>\n",
       "    <tr>\n",
       "      <th>1</th>\n",
       "      <td>Albania</td>\n",
       "      <td>78.025</td>\n",
       "      <td>11228.9510</td>\n",
       "      <td>3.31</td>\n",
       "      <td>2891000.0</td>\n",
       "      <td>9.0</td>\n",
       "      <td>4.959</td>\n",
       "      <td>0.35733</td>\n",
       "      <td>0.06413</td>\n",
       "    </tr>\n",
       "    <tr>\n",
       "      <th>2</th>\n",
       "      <td>Algeria</td>\n",
       "      <td>76.090</td>\n",
       "      <td>12077.4440</td>\n",
       "      <td>0.78</td>\n",
       "      <td>39728000.0</td>\n",
       "      <td>2.0</td>\n",
       "      <td>5.605</td>\n",
       "      <td>0.28579</td>\n",
       "      <td>0.17383</td>\n",
       "    </tr>\n",
       "    <tr>\n",
       "      <th>3</th>\n",
       "      <td>Angola</td>\n",
       "      <td>59.398</td>\n",
       "      <td>5530.3374</td>\n",
       "      <td>3.26</td>\n",
       "      <td>27884000.0</td>\n",
       "      <td>-2.0</td>\n",
       "      <td>4.033</td>\n",
       "      <td>0.10384</td>\n",
       "      <td>0.07122</td>\n",
       "    </tr>\n",
       "    <tr>\n",
       "      <th>4</th>\n",
       "      <td>Argentina</td>\n",
       "      <td>76.068</td>\n",
       "      <td>16414.0780</td>\n",
       "      <td>5.92</td>\n",
       "      <td>43075000.0</td>\n",
       "      <td>9.0</td>\n",
       "      <td>6.574</td>\n",
       "      <td>0.44974</td>\n",
       "      <td>0.08484</td>\n",
       "    </tr>\n",
       "  </tbody>\n",
       "</table>\n",
       "</div>"
      ],
      "text/plain": [
       "       country  life_expectancy  gdp_per_cap  average_years_of_school  \\\n",
       "0  Afghanistan           63.377   12381.3665                     0.35   \n",
       "1      Albania           78.025   11228.9510                     3.31   \n",
       "2      Algeria           76.090   12077.4440                     0.78   \n",
       "3       Angola           59.398    5530.3374                     3.26   \n",
       "4    Argentina           76.068   16414.0780                     5.92   \n",
       "\n",
       "   total_population  auto_demo  happiness  freedom  less_corruption  \n",
       "0        34414000.0       -1.0      3.575  0.23414          0.09719  \n",
       "1         2891000.0        9.0      4.959  0.35733          0.06413  \n",
       "2        39728000.0        2.0      5.605  0.28579          0.17383  \n",
       "3        27884000.0       -2.0      4.033  0.10384          0.07122  \n",
       "4        43075000.0        9.0      6.574  0.44974          0.08484  "
      ]
     },
     "execution_count": 2,
     "metadata": {},
     "output_type": "execute_result"
    }
   ],
   "source": [
    "gov = pd.read_csv('gov.csv')\n",
    "gov.head()"
   ]
  },
  {
   "cell_type": "code",
   "execution_count": 3,
   "metadata": {},
   "outputs": [],
   "source": [
    "# Set X and y for each imputation\n",
    "X = gov.drop(columns = ['country', 'less_corruption'], axis = 1) #drop identifier and target\n",
    "y = gov['less_corruption']\n",
    "\n",
    "# Train-test split\n",
    "X_train, X_test, y_train, y_test = train_test_split(X, y, random_state = 1)"
   ]
  },
  {
   "cell_type": "code",
   "execution_count": 4,
   "metadata": {},
   "outputs": [],
   "source": [
    "# Scale data for each imptation\n",
    "ss = StandardScaler()\n",
    "\n",
    "Z_train = ss.fit_transform(X_train)\n",
    "Z_test = ss.transform(X_test)"
   ]
  },
  {
   "cell_type": "markdown",
   "metadata": {},
   "source": [
    "## Modeling\n",
    "Fit 8 different models with default parameters and then tune the models with the best performing testing scores"
   ]
  },
  {
   "cell_type": "code",
   "execution_count": 5,
   "metadata": {},
   "outputs": [
    {
     "name": "stderr",
     "output_type": "stream",
     "text": [
      "/Users/iraseidman/opt/anaconda3/lib/python3.8/site-packages/sklearn/linear_model/_ridge.py:147: LinAlgWarning: Ill-conditioned matrix (rcond=1.12744e-18): result may not be accurate.\n",
      "  return linalg.solve(A, Xy, sym_pos=True,\n"
     ]
    }
   ],
   "source": [
    "np.random.seed(1) #set random seed\n",
    "\n",
    "# Linear regression model\n",
    "lr = LinearRegression().fit(X_train, y_train)\n",
    "lr_preds_train, lr_preds_test = lr.predict(X_train), lr.predict(X_test)\n",
    "\n",
    "# Ridge model\n",
    "ridge = Ridge().fit(X_train, y_train)\n",
    "ridge_preds_train, ridge_preds_test = ridge.predict(X_train), ridge.predict(X_test)\n",
    "\n",
    "# Lasso model\n",
    "lasso = Lasso().fit(X_train, y_train)\n",
    "lasso_preds_train, lasso_preds_test = lasso.predict(X_train), lasso.predict(X_test)\n",
    "\n",
    "# Random Forest model\n",
    "rf = RandomForestRegressor(random_state = 1).fit(X_train, y_train) #set random_state for reprodcucability\n",
    "rf_preds_train, rf_preds_test = rf.predict(X_train), rf.predict(X_test)\n",
    "\n",
    "# KNN model\n",
    "knn = KNeighborsRegressor().fit(X_train, y_train)\n",
    "knn_preds = knn.predict(X_test)\n",
    "knn_preds_train, knn_preds_test = knn.predict(X_train), knn.predict(X_test)\n",
    "\n",
    "# Bagging model\n",
    "bagging = BaggingRegressor().fit(X_train, y_train)\n",
    "bagging_preds_train, bagging_preds_test = bagging.predict(X_train), bagging.predict(X_test)\n",
    "\n",
    "# SVR model\n",
    "svr = SVR().fit(X_train, y_train)\n",
    "svr_preds_train, svr_preds_test = svr.predict(X_train), svr.predict(X_test)\n",
    "\n",
    "# PCA model\n",
    "pca = PCA(random_state = 1).fit(X_train, y_train)\n",
    "Z_pca_train = pca.transform(Z_train)\n",
    "Z_pca_test = pca.transform(Z_test)\n",
    "\n",
    "# Fit on Z_train - credit below to PCA lecture\n",
    "lr_pca = LinearRegression().fit(Z_pca_train, y_train)"
   ]
  },
  {
   "cell_type": "markdown",
   "metadata": {},
   "source": [
    "## Score Models\n",
    "Check cross-validated performance and tune for the best models"
   ]
  },
  {
   "cell_type": "code",
   "execution_count": 6,
   "metadata": {},
   "outputs": [
    {
     "name": "stdout",
     "output_type": "stream",
     "text": [
      "Lr training score: 0.1823804019359104\n",
      "Lr testing score: -1.1869449690695448 \n",
      "\n",
      "Lasso training score: 0.09754218299594224\n",
      "Lasso testing score: -0.8968066386780821 \n",
      "\n",
      "Ridge training score: 0.16205899733188717\n",
      "Ridge testing score: -1.08251461417098 \n",
      "\n"
     ]
    },
    {
     "name": "stderr",
     "output_type": "stream",
     "text": [
      "/Users/iraseidman/opt/anaconda3/lib/python3.8/site-packages/sklearn/linear_model/_ridge.py:147: LinAlgWarning: Ill-conditioned matrix (rcond=8.53851e-18): result may not be accurate.\n",
      "  return linalg.solve(A, Xy, sym_pos=True,\n",
      "/Users/iraseidman/opt/anaconda3/lib/python3.8/site-packages/sklearn/linear_model/_ridge.py:147: LinAlgWarning: Ill-conditioned matrix (rcond=9.83814e-19): result may not be accurate.\n",
      "  return linalg.solve(A, Xy, sym_pos=True,\n",
      "/Users/iraseidman/opt/anaconda3/lib/python3.8/site-packages/sklearn/linear_model/_ridge.py:147: LinAlgWarning: Ill-conditioned matrix (rcond=1.06187e-18): result may not be accurate.\n",
      "  return linalg.solve(A, Xy, sym_pos=True,\n",
      "/Users/iraseidman/opt/anaconda3/lib/python3.8/site-packages/sklearn/linear_model/_ridge.py:147: LinAlgWarning: Ill-conditioned matrix (rcond=9.73561e-19): result may not be accurate.\n",
      "  return linalg.solve(A, Xy, sym_pos=True,\n",
      "/Users/iraseidman/opt/anaconda3/lib/python3.8/site-packages/sklearn/linear_model/_ridge.py:147: LinAlgWarning: Ill-conditioned matrix (rcond=1.06723e-18): result may not be accurate.\n",
      "  return linalg.solve(A, Xy, sym_pos=True,\n",
      "/Users/iraseidman/opt/anaconda3/lib/python3.8/site-packages/sklearn/linear_model/_ridge.py:147: LinAlgWarning: Ill-conditioned matrix (rcond=6.96277e-19): result may not be accurate.\n",
      "  return linalg.solve(A, Xy, sym_pos=True,\n",
      "/Users/iraseidman/opt/anaconda3/lib/python3.8/site-packages/sklearn/linear_model/_ridge.py:147: LinAlgWarning: Ill-conditioned matrix (rcond=6.98975e-19): result may not be accurate.\n",
      "  return linalg.solve(A, Xy, sym_pos=True,\n",
      "/Users/iraseidman/opt/anaconda3/lib/python3.8/site-packages/sklearn/linear_model/_ridge.py:147: LinAlgWarning: Ill-conditioned matrix (rcond=7.97692e-19): result may not be accurate.\n",
      "  return linalg.solve(A, Xy, sym_pos=True,\n",
      "/Users/iraseidman/opt/anaconda3/lib/python3.8/site-packages/sklearn/linear_model/_ridge.py:147: LinAlgWarning: Ill-conditioned matrix (rcond=7.05975e-19): result may not be accurate.\n",
      "  return linalg.solve(A, Xy, sym_pos=True,\n",
      "/Users/iraseidman/opt/anaconda3/lib/python3.8/site-packages/sklearn/linear_model/_ridge.py:147: LinAlgWarning: Ill-conditioned matrix (rcond=2.63169e-17): result may not be accurate.\n",
      "  return linalg.solve(A, Xy, sym_pos=True,\n"
     ]
    },
    {
     "name": "stdout",
     "output_type": "stream",
     "text": [
      "Rf training score: 0.29006186807437234\n",
      "Rf testing score: -0.26355907996686473 \n",
      "\n",
      "Knn training score: -0.5663857819850555\n",
      "Knn testing score: -0.8977225052930189 \n",
      "\n",
      "Bagging training score: 0.2597198925399785\n",
      "Bagging testing score: -0.3777639341492791 \n",
      "\n",
      "Svr training score: -0.29101650093995396\n",
      "Svr testing score: -1.056734369686819 \n",
      "\n",
      "Pca training score: 0.5443\n",
      "Pca testing score: 0.2555\n"
     ]
    }
   ],
   "source": [
    "# Linear regression scoring\n",
    "lr_training_score = cross_val_score(lr, X_train, y_train, cv = 5).mean()\n",
    "lr_testing_score = cross_val_score(lr, X_test, y_test, cv = 5).mean()\n",
    "print(f'Lr training score: {lr_training_score}')\n",
    "print(f'Lr testing score: {lr_testing_score} \\n')\n",
    "\n",
    "# Lasso scoring\n",
    "lasso_training_score = cross_val_score(lasso, X_train, y_train, cv = 5).mean()\n",
    "lasso_testing_score = cross_val_score(lasso, X_test, y_test, cv = 5).mean()\n",
    "print(f'Lasso training score: {lasso_training_score}')\n",
    "print(f'Lasso testing score: {lasso_testing_score} \\n')\n",
    "\n",
    "# Ridge scoring\n",
    "ridge_training_score = cross_val_score(ridge, X_train, y_train, cv = 5).mean()\n",
    "ridge_testing_score = cross_val_score(ridge, X_test, y_test, cv = 5).mean()\n",
    "print(f'Ridge training score: {ridge_training_score}')\n",
    "print(f'Ridge testing score: {ridge_testing_score} \\n')\n",
    "\n",
    "# Random forest scoring\n",
    "rf_training_score = cross_val_score(rf, X_train, y_train, cv = 5).mean()\n",
    "rf_testing_score = cross_val_score(rf, X_test, y_test, cv = 5).mean()\n",
    "print(f'Rf training score: {rf_training_score}')\n",
    "print(f'Rf testing score: {rf_testing_score} \\n')\n",
    "\n",
    "# Knn scoring\n",
    "knn_training_score = cross_val_score(knn, X_train, y_train, cv = 5).mean()\n",
    "knn_testing_score = cross_val_score(knn, X_test, y_test, cv = 5).mean()\n",
    "print(f'Knn training score: {knn_training_score}')\n",
    "print(f'Knn testing score: {knn_testing_score} \\n')\n",
    "\n",
    "# Bagging scoring\n",
    "bagging_training_score = cross_val_score(bagging, X_train, y_train, cv = 5).mean()\n",
    "bagging_testing_score = cross_val_score(bagging, X_test, y_test, cv = 5).mean()\n",
    "print(f'Bagging training score: {bagging_training_score}')\n",
    "print(f'Bagging testing score: {bagging_testing_score} \\n')\n",
    "\n",
    "# Svr scoring\n",
    "svr_training_score = cross_val_score(svr, X_train, y_train, cv = 5).mean()\n",
    "svr_testing_score = cross_val_score(svr, X_test, y_test, cv = 5).mean()\n",
    "print(f'Svr training score: {svr_training_score}')\n",
    "print(f'Svr testing score: {svr_testing_score} \\n')\n",
    "\n",
    "# Pca scoring\n",
    "print(f'Pca training score: {round(lr_pca.score(Z_pca_train, y_train), 4)}')\n",
    "print(f'Pca testing score: {round(lr_pca.score(Z_pca_test, y_test), 4)}')"
   ]
  },
  {
   "cell_type": "markdown",
   "metadata": {},
   "source": [
    "The models with the best performing testing scores are random forest (-.3946), bagging (-.6366), and pca (.2555). I will tune these models for a better fit"
   ]
  },
  {
   "cell_type": "code",
   "execution_count": 7,
   "metadata": {},
   "outputs": [
    {
     "name": "stdout",
     "output_type": "stream",
     "text": [
      "Fitting 5 folds for each of 24 candidates, totalling 120 fits\n"
     ]
    },
    {
     "name": "stderr",
     "output_type": "stream",
     "text": [
      "[Parallel(n_jobs=1)]: Using backend SequentialBackend with 1 concurrent workers.\n",
      "[Parallel(n_jobs=1)]: Done 120 out of 120 | elapsed:   11.2s finished\n"
     ]
    },
    {
     "data": {
      "text/plain": [
       "GridSearchCV(cv=5, estimator=RandomForestRegressor(random_state=1),\n",
       "             param_grid={'bootstrap': [True, False],\n",
       "                         'max_depth': [2, 5, 8, None],\n",
       "                         'min_samples_split': [2, 5, 8]},\n",
       "             verbose=1)"
      ]
     },
     "execution_count": 7,
     "metadata": {},
     "output_type": "execute_result"
    }
   ],
   "source": [
    "# Tuned random forest model gridsearch\n",
    "rf_params = {\n",
    "    'max_depth' : [2, 5, 8, None],\n",
    "    'min_samples_split' : [2, 5, 8],\n",
    "    'bootstrap': [True, False]\n",
    "}\n",
    "\n",
    "rf_tuned = GridSearchCV(rf,\n",
    "                        rf_params,\n",
    "                        cv = 5,\n",
    "                        verbose = 1)\n",
    "\n",
    "rf_tuned.fit(X_train, y_train)\n"
   ]
  },
  {
   "cell_type": "code",
   "execution_count": 8,
   "metadata": {},
   "outputs": [
    {
     "name": "stderr",
     "output_type": "stream",
     "text": [
      "[Parallel(n_jobs=1)]: Using backend SequentialBackend with 1 concurrent workers.\n"
     ]
    },
    {
     "name": "stdout",
     "output_type": "stream",
     "text": [
      "Fitting 5 folds for each of 8 candidates, totalling 40 fits\n"
     ]
    },
    {
     "name": "stderr",
     "output_type": "stream",
     "text": [
      "[Parallel(n_jobs=1)]: Done  40 out of  40 | elapsed:  2.0min finished\n"
     ]
    },
    {
     "data": {
      "text/plain": [
       "GridSearchCV(cv=5, estimator=BaggingRegressor(),\n",
       "             param_grid={'base_estimator': [RandomForestRegressor(random_state=1),\n",
       "                                            None],\n",
       "                         'bootstrap': [True, False],\n",
       "                         'n_estimators': [10, 100]},\n",
       "             verbose=1)"
      ]
     },
     "execution_count": 8,
     "metadata": {},
     "output_type": "execute_result"
    }
   ],
   "source": [
    "# Tuned bagging model gridsearch\n",
    "bagging_params = {\n",
    "    'base_estimator' : [rf, None],\n",
    "    'n_estimators' : [10, 100],\n",
    "    'bootstrap' : [True, False]\n",
    "}\n",
    "\n",
    "bagging_tuned = GridSearchCV(bagging,\n",
    "                             bagging_params,\n",
    "                             cv = 5,\n",
    "                             verbose = 1)\n",
    "\n",
    "bagging_tuned.fit(X_train, y_train)"
   ]
  },
  {
   "cell_type": "code",
   "execution_count": 9,
   "metadata": {},
   "outputs": [
    {
     "name": "stdout",
     "output_type": "stream",
     "text": [
      "Fitting 5 folds for each of 18 candidates, totalling 90 fits\n"
     ]
    },
    {
     "name": "stderr",
     "output_type": "stream",
     "text": [
      "[Parallel(n_jobs=1)]: Using backend SequentialBackend with 1 concurrent workers.\n",
      "[Parallel(n_jobs=1)]: Done  90 out of  90 | elapsed:    0.3s finished\n",
      "/Users/iraseidman/opt/anaconda3/lib/python3.8/site-packages/sklearn/model_selection/_search.py:813: RuntimeWarning: invalid value encountered in subtract\n",
      "  array_stds = np.sqrt(np.average((array -\n"
     ]
    }
   ],
   "source": [
    "# Tuned PCA model gridsearch\n",
    "pca_params = {\n",
    "    'n_components' : [2, 5, None],\n",
    "    'copy' : [True, False],\n",
    "    'random_state' : [1],\n",
    "    'tol' : [0.0, .1, 1]\n",
    "}\n",
    "\n",
    "pca_tuned = GridSearchCV(pca,\n",
    "                         pca_params,\n",
    "                         cv = 5,\n",
    "                         verbose = 1)\n",
    "\n",
    "pca_tuned = pca_tuned.fit(X_train, y_train)\n",
    "Z_pca_tuned_train = pca_tuned.transform(Z_train)\n",
    "Z_pca_tuned_test = pca_tuned.transform(Z_test)\n",
    "\n",
    "# Fit on Z_train - credit below to PCA lecture\n",
    "lr_pca_tuned = LinearRegression().fit(Z_pca_tuned_train, y_train)\n"
   ]
  },
  {
   "cell_type": "code",
   "execution_count": 10,
   "metadata": {},
   "outputs": [
    {
     "name": "stderr",
     "output_type": "stream",
     "text": [
      "[Parallel(n_jobs=1)]: Using backend SequentialBackend with 1 concurrent workers.\n"
     ]
    },
    {
     "name": "stdout",
     "output_type": "stream",
     "text": [
      "Fitting 5 folds for each of 24 candidates, totalling 120 fits\n"
     ]
    },
    {
     "name": "stderr",
     "output_type": "stream",
     "text": [
      "[Parallel(n_jobs=1)]: Done 120 out of 120 | elapsed:   13.0s finished\n",
      "[Parallel(n_jobs=1)]: Using backend SequentialBackend with 1 concurrent workers.\n"
     ]
    },
    {
     "name": "stdout",
     "output_type": "stream",
     "text": [
      "Fitting 5 folds for each of 24 candidates, totalling 120 fits\n"
     ]
    },
    {
     "name": "stderr",
     "output_type": "stream",
     "text": [
      "[Parallel(n_jobs=1)]: Done 120 out of 120 | elapsed:   12.6s finished\n",
      "[Parallel(n_jobs=1)]: Using backend SequentialBackend with 1 concurrent workers.\n"
     ]
    },
    {
     "name": "stdout",
     "output_type": "stream",
     "text": [
      "Fitting 5 folds for each of 24 candidates, totalling 120 fits\n"
     ]
    },
    {
     "name": "stderr",
     "output_type": "stream",
     "text": [
      "[Parallel(n_jobs=1)]: Done 120 out of 120 | elapsed:   11.5s finished\n",
      "[Parallel(n_jobs=1)]: Using backend SequentialBackend with 1 concurrent workers.\n"
     ]
    },
    {
     "name": "stdout",
     "output_type": "stream",
     "text": [
      "Fitting 5 folds for each of 24 candidates, totalling 120 fits\n"
     ]
    },
    {
     "name": "stderr",
     "output_type": "stream",
     "text": [
      "[Parallel(n_jobs=1)]: Done 120 out of 120 | elapsed:   12.9s finished\n",
      "[Parallel(n_jobs=1)]: Using backend SequentialBackend with 1 concurrent workers.\n"
     ]
    },
    {
     "name": "stdout",
     "output_type": "stream",
     "text": [
      "Fitting 5 folds for each of 24 candidates, totalling 120 fits\n"
     ]
    },
    {
     "name": "stderr",
     "output_type": "stream",
     "text": [
      "[Parallel(n_jobs=1)]: Done 120 out of 120 | elapsed:   12.4s finished\n",
      "[Parallel(n_jobs=1)]: Using backend SequentialBackend with 1 concurrent workers.\n"
     ]
    },
    {
     "name": "stdout",
     "output_type": "stream",
     "text": [
      "Fitting 5 folds for each of 24 candidates, totalling 120 fits\n"
     ]
    },
    {
     "name": "stderr",
     "output_type": "stream",
     "text": [
      "[Parallel(n_jobs=1)]: Done 120 out of 120 | elapsed:   11.6s finished\n",
      "[Parallel(n_jobs=1)]: Using backend SequentialBackend with 1 concurrent workers.\n"
     ]
    },
    {
     "name": "stdout",
     "output_type": "stream",
     "text": [
      "Fitting 5 folds for each of 24 candidates, totalling 120 fits\n"
     ]
    },
    {
     "name": "stderr",
     "output_type": "stream",
     "text": [
      "[Parallel(n_jobs=1)]: Done 120 out of 120 | elapsed:   10.1s finished\n",
      "[Parallel(n_jobs=1)]: Using backend SequentialBackend with 1 concurrent workers.\n"
     ]
    },
    {
     "name": "stdout",
     "output_type": "stream",
     "text": [
      "Fitting 5 folds for each of 24 candidates, totalling 120 fits\n"
     ]
    },
    {
     "name": "stderr",
     "output_type": "stream",
     "text": [
      "[Parallel(n_jobs=1)]: Done 120 out of 120 | elapsed:    9.9s finished\n",
      "[Parallel(n_jobs=1)]: Using backend SequentialBackend with 1 concurrent workers.\n"
     ]
    },
    {
     "name": "stdout",
     "output_type": "stream",
     "text": [
      "Fitting 5 folds for each of 24 candidates, totalling 120 fits\n"
     ]
    },
    {
     "name": "stderr",
     "output_type": "stream",
     "text": [
      "[Parallel(n_jobs=1)]: Done 120 out of 120 | elapsed:    9.9s finished\n",
      "[Parallel(n_jobs=1)]: Using backend SequentialBackend with 1 concurrent workers.\n"
     ]
    },
    {
     "name": "stdout",
     "output_type": "stream",
     "text": [
      "Fitting 5 folds for each of 24 candidates, totalling 120 fits\n"
     ]
    },
    {
     "name": "stderr",
     "output_type": "stream",
     "text": [
      "[Parallel(n_jobs=1)]: Done 120 out of 120 | elapsed:   10.0s finished\n",
      "[Parallel(n_jobs=1)]: Using backend SequentialBackend with 1 concurrent workers.\n"
     ]
    },
    {
     "name": "stdout",
     "output_type": "stream",
     "text": [
      "Rf tuned training score: 0.28968919736450094\n",
      "Rf tuned testing score: -0.32810654809720485 \n",
      "\n",
      "Fitting 5 folds for each of 8 candidates, totalling 40 fits\n"
     ]
    },
    {
     "name": "stderr",
     "output_type": "stream",
     "text": [
      "[Parallel(n_jobs=1)]: Done  40 out of  40 | elapsed:  2.0min finished\n"
     ]
    },
    {
     "name": "stdout",
     "output_type": "stream",
     "text": [
      "Fitting 5 folds for each of 8 candidates, totalling 40 fits\n"
     ]
    },
    {
     "name": "stderr",
     "output_type": "stream",
     "text": [
      "[Parallel(n_jobs=1)]: Using backend SequentialBackend with 1 concurrent workers.\n",
      "[Parallel(n_jobs=1)]: Done  40 out of  40 | elapsed:  2.1min finished\n"
     ]
    },
    {
     "name": "stdout",
     "output_type": "stream",
     "text": [
      "Fitting 5 folds for each of 8 candidates, totalling 40 fits\n"
     ]
    },
    {
     "name": "stderr",
     "output_type": "stream",
     "text": [
      "[Parallel(n_jobs=1)]: Using backend SequentialBackend with 1 concurrent workers.\n",
      "[Parallel(n_jobs=1)]: Done  40 out of  40 | elapsed:  2.2min finished\n"
     ]
    },
    {
     "name": "stdout",
     "output_type": "stream",
     "text": [
      "Fitting 5 folds for each of 8 candidates, totalling 40 fits\n"
     ]
    },
    {
     "name": "stderr",
     "output_type": "stream",
     "text": [
      "[Parallel(n_jobs=1)]: Using backend SequentialBackend with 1 concurrent workers.\n",
      "[Parallel(n_jobs=1)]: Done  40 out of  40 | elapsed:  2.0min finished\n"
     ]
    },
    {
     "name": "stdout",
     "output_type": "stream",
     "text": [
      "Fitting 5 folds for each of 8 candidates, totalling 40 fits\n"
     ]
    },
    {
     "name": "stderr",
     "output_type": "stream",
     "text": [
      "[Parallel(n_jobs=1)]: Using backend SequentialBackend with 1 concurrent workers.\n",
      "[Parallel(n_jobs=1)]: Done  40 out of  40 | elapsed:  1.9min finished\n"
     ]
    },
    {
     "name": "stdout",
     "output_type": "stream",
     "text": [
      "Fitting 5 folds for each of 8 candidates, totalling 40 fits\n"
     ]
    },
    {
     "name": "stderr",
     "output_type": "stream",
     "text": [
      "[Parallel(n_jobs=1)]: Using backend SequentialBackend with 1 concurrent workers.\n",
      "[Parallel(n_jobs=1)]: Done  40 out of  40 | elapsed:  1.8min finished\n"
     ]
    },
    {
     "name": "stdout",
     "output_type": "stream",
     "text": [
      "Fitting 5 folds for each of 8 candidates, totalling 40 fits\n"
     ]
    },
    {
     "name": "stderr",
     "output_type": "stream",
     "text": [
      "[Parallel(n_jobs=1)]: Using backend SequentialBackend with 1 concurrent workers.\n",
      "[Parallel(n_jobs=1)]: Done  40 out of  40 | elapsed:  1.8min finished\n"
     ]
    },
    {
     "name": "stdout",
     "output_type": "stream",
     "text": [
      "Fitting 5 folds for each of 8 candidates, totalling 40 fits\n"
     ]
    },
    {
     "name": "stderr",
     "output_type": "stream",
     "text": [
      "[Parallel(n_jobs=1)]: Using backend SequentialBackend with 1 concurrent workers.\n",
      "[Parallel(n_jobs=1)]: Done  40 out of  40 | elapsed:  1.9min finished\n",
      "[Parallel(n_jobs=1)]: Using backend SequentialBackend with 1 concurrent workers.\n"
     ]
    },
    {
     "name": "stdout",
     "output_type": "stream",
     "text": [
      "Fitting 5 folds for each of 8 candidates, totalling 40 fits\n"
     ]
    },
    {
     "name": "stderr",
     "output_type": "stream",
     "text": [
      "[Parallel(n_jobs=1)]: Done  40 out of  40 | elapsed:  2.3min finished\n"
     ]
    },
    {
     "name": "stdout",
     "output_type": "stream",
     "text": [
      "Fitting 5 folds for each of 8 candidates, totalling 40 fits\n"
     ]
    },
    {
     "name": "stderr",
     "output_type": "stream",
     "text": [
      "[Parallel(n_jobs=1)]: Using backend SequentialBackend with 1 concurrent workers.\n"
     ]
    },
    {
     "name": "stdout",
     "output_type": "stream",
     "text": [
      "Bagging tuned training score: 0.3067967000765127\n",
      "Bagging tuned testing score: -0.26166997130372877 \n",
      "\n",
      "Pca tuned training score: 0.5443\n",
      "Pca tuned testing score: 0.2555\n"
     ]
    },
    {
     "name": "stderr",
     "output_type": "stream",
     "text": [
      "[Parallel(n_jobs=1)]: Done  40 out of  40 | elapsed:  2.7min finished\n"
     ]
    }
   ],
   "source": [
    "# Random forest scoring\n",
    "rf_tuned_training_score = cross_val_score(rf_tuned, X_train, y_train, cv = 5).mean()\n",
    "rf_tuned_testing_score = cross_val_score(rf_tuned, X_test, y_test, cv = 5).mean()\n",
    "print(f'Rf tuned training score: {rf_tuned_training_score}')\n",
    "print(f'Rf tuned testing score: {rf_tuned_testing_score} \\n')\n",
    "\n",
    "# Bagging scoring\n",
    "bagging_tuned_training_score = cross_val_score(bagging_tuned, X_train, y_train, cv = 5).mean()\n",
    "bagging_tuned_testing_score = cross_val_score(bagging_tuned, X_test, y_test, cv = 5).mean()\n",
    "print(f'Bagging tuned training score: {bagging_tuned_training_score}')\n",
    "print(f'Bagging tuned testing score: {bagging_tuned_testing_score} \\n')\n",
    "\n",
    "# Pca scoring\n",
    "print(f'Pca tuned training score: {round(lr_pca_tuned.score(Z_pca_tuned_train, y_train), 4)}')\n",
    "print(f'Pca tuned testing score: {round(lr_pca_tuned.score(Z_pca_tuned_test, y_test), 4)}')"
   ]
  },
  {
   "cell_type": "markdown",
   "metadata": {},
   "source": [
    "Slight improvement on bagging and no improvement for random forest and pca - pca is the highest scoring testing model and the production model for this analysis. More detail to follow in technical write-up."
   ]
  }
 ],
 "metadata": {
  "kernelspec": {
   "display_name": "Python 3",
   "language": "python",
   "name": "python3"
  },
  "language_info": {
   "codemirror_mode": {
    "name": "ipython",
    "version": 3
   },
   "file_extension": ".py",
   "mimetype": "text/x-python",
   "name": "python",
   "nbconvert_exporter": "python",
   "pygments_lexer": "ipython3",
   "version": "3.8.5"
  }
 },
 "nbformat": 4,
 "nbformat_minor": 4
}
